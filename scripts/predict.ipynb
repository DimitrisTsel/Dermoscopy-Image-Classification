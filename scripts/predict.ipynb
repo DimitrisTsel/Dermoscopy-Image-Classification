{
 "cells": [
  {
   "cell_type": "markdown",
   "metadata": {},
   "source": [
    "# ● Libraries"
   ]
  },
  {
   "cell_type": "code",
   "execution_count": 2,
   "metadata": {},
   "outputs": [],
   "source": [
    "import tqdm\n",
    "import time\n",
    "import numpy as np\n",
    "import cv2\n",
    "from sklearn.metrics import (roc_curve, auc, accuracy_score, f1_score, precision_score, \n",
    "                             recall_score, classification_report, confusion_matrix)\n",
    "import seaborn as sn\n",
    "import pandas as pd\n",
    "from sklearn.model_selection import train_test_split, cross_val_score, cross_validate, StratifiedKFold\n",
    "from dataio import *\n",
    "from preprocess import *\n",
    "from segment import *\n",
    "from colorfeatures import *\n",
    "from classify import *\n",
    "from feature_extraction import *"
   ]
  },
  {
   "cell_type": "code",
   "execution_count": 84,
   "metadata": {},
   "outputs": [],
   "source": [
    "# Load Prior Session Variables\n",
    "import dill\n",
    "#dill.dump_session('predict_env.db')\n",
    "#dill.load_session('predict_env.db')"
   ]
  },
  {
   "cell_type": "markdown",
   "metadata": {},
   "source": [
    "# ● Dataset"
   ]
  },
  {
   "cell_type": "code",
   "execution_count": 3,
   "metadata": {},
   "outputs": [
    {
     "name": "stdout",
     "output_type": "stream",
     "text": [
      "Number of LES Images: 2400\n",
      "Number of NV Images: 2400\n"
     ]
    }
   ],
   "source": [
    "train_data = sortData('../data/train')                 # Load Training Set"
   ]
  },
  {
   "cell_type": "code",
   "execution_count": 4,
   "metadata": {},
   "outputs": [
    {
     "name": "stdout",
     "output_type": "stream",
     "text": [
      "Number of LES Images: 600\n",
      "Number of NV Images: 600\n"
     ]
    }
   ],
   "source": [
    "val_data   = sortData('../data/val')                   # Load Validation Set"
   ]
  },
  {
   "cell_type": "code",
   "execution_count": 3,
   "metadata": {},
   "outputs": [
    {
     "name": "stdout",
     "output_type": "stream",
     "text": [
      "Number of Test Images: 10982\n"
     ]
    }
   ],
   "source": [
    "test_data   = sortData(r'C:\\Users\\30694\\Downloads\\Melanoma_DeepLearning\\siim-isic-melanoma-classification\\jpeg\\test', mode='test')     # Load Testing Set"
   ]
  },
  {
   "cell_type": "markdown",
   "metadata": {},
   "source": [
    "# ● Feature Extraction: (Train+Val) Datasets"
   ]
  },
  {
   "cell_type": "code",
   "execution_count": 6,
   "metadata": {},
   "outputs": [
    {
     "name": "stderr",
     "output_type": "stream",
     "text": [
      "100%|████████████████████████████████████████████████████████████████████████████| 4800/4800 [2:44:30<00:00,  2.06s/it]\n"
     ]
    },
    {
     "name": "stdout",
     "output_type": "stream",
     "text": [
      "Features Extraction (Training Set) Complete: 4800\n"
     ]
    }
   ],
   "source": [
    "train_features_les = [] \n",
    "train_features_nv  = []\n",
    "\n",
    "counter      = 0\n",
    "start        = 0\n",
    "stop         = len(train_data)\n",
    "\n",
    "for index in tqdm.tqdm(range(start,stop)):\n",
    "    time.sleep(0.01)\n",
    "\n",
    "    # Load Dataset\n",
    "    image    = plt.imread(train_data[index]['image'])\n",
    "    scan_id  = train_data[index]['id']\n",
    "    label    = train_data[index]['label']\n",
    "        \n",
    "    # External Preprocessing (Discontinued)\n",
    "    # hr,_     = occlusion_removal(image)       # Occlusion Removal\n",
    "    # cl       = clahe_LAB(hr)                  # CLAHE Preprocessing\n",
    "    \n",
    "    # Segmentation (Discontinued)\n",
    "    # mask     = segment_lesion(image, mode=\"active_contours\")\n",
    "    # mask     = (plt.imread(train_data[index]['mask'])).astype(bool)\n",
    "        \n",
    "    # Feature Extraction\n",
    "    features = extract_features(image)\n",
    "    features = np.expand_dims(np.asarray(features),axis=0)\n",
    "    \n",
    "    # Pass to Feature Vectors\n",
    "    if (label==1):                           # LES Features\n",
    "        if (len(train_features_les)==0):\n",
    "            train_features_les = features\n",
    "        else:\n",
    "            train_features_les = np.concatenate((train_features_les,features),axis=0)\n",
    "    if (label==0):                           # NV Features\n",
    "        if (len(train_features_nv)==0):\n",
    "            train_features_nv = features\n",
    "        else:\n",
    "            train_features_nv = np.concatenate((train_features_nv,features),axis=0)\n",
    "    counter = counter + 1\n",
    "\n",
    "print(\"Features Extraction (Training Set) Complete: \"+str(counter))"
   ]
  },
  {
   "cell_type": "code",
   "execution_count": 7,
   "metadata": {},
   "outputs": [
    {
     "name": "stderr",
     "output_type": "stream",
     "text": [
      "100%|██████████████████████████████████████████████████████████████████████████████| 1200/1200 [37:37<00:00,  1.88s/it]\n"
     ]
    },
    {
     "name": "stdout",
     "output_type": "stream",
     "text": [
      "Features Extraction (Validation Set) Complete: 1200\n"
     ]
    }
   ],
   "source": [
    "val_features_les = [] \n",
    "val_features_nv  = []\n",
    "\n",
    "counter      = 0\n",
    "start        = 0\n",
    "stop         = len(val_data)\n",
    "\n",
    "for index in tqdm.tqdm(range(start,stop)):\n",
    "    time.sleep(0.01)\n",
    "\n",
    "    # Load Dataset\n",
    "    image    = plt.imread(val_data[index]['image'])\n",
    "    scan_id  = val_data[index]['id']\n",
    "    label    = val_data[index]['label']\n",
    "    \n",
    "    # External Preprocessing (Discontinued)\n",
    "    # hr,_     = occlusion_removal(image)       # Occlusion Removal\n",
    "    # cl       = clahe_LAB(hr)                  # CLAHE Preprocessing\n",
    "    \n",
    "    # Segmentation (Discontinued)\n",
    "    # mask     = segment_lesion(cl, mode=\"active_contours\")   \n",
    "    # mask     = (plt.imread(train_data[index]['mask'])).astype(bool)\n",
    "    \n",
    "    # Feature Extraction\n",
    "    features = extract_features(image)\n",
    "    features = np.expand_dims(np.asarray(features),axis=0)\n",
    "    \n",
    "    # Pass to Feature Vectors\n",
    "    if (label==1):                           # LES Features\n",
    "        if (len(val_features_les)==0):\n",
    "            val_features_les = features\n",
    "        else:\n",
    "            val_features_les = np.concatenate((val_features_les,features),axis=0)\n",
    "    if (label==0):                           # NV Features\n",
    "        if (len(val_features_nv)==0):\n",
    "            val_features_nv = features\n",
    "        else:\n",
    "            val_features_nv = np.concatenate((val_features_nv,features),axis=0)\n",
    "    counter = counter + 1\n",
    "\n",
    "print(\"Features Extraction (Validation Set) Complete: \"+str(counter))"
   ]
  },
  {
   "cell_type": "markdown",
   "metadata": {},
   "source": [
    "# ● Feature Extraction: Test Dataset"
   ]
  },
  {
   "cell_type": "code",
   "execution_count": 4,
   "metadata": {},
   "outputs": [
    {
     "name": "stderr",
     "output_type": "stream",
     "text": [
      "100%|██████████████████████████████████████████████████████████████████████████████| 1015/1015 [33:18<00:00,  1.97s/it]\n"
     ]
    },
    {
     "name": "stdout",
     "output_type": "stream",
     "text": [
      "Features Extraction (Testing Set) Complete: 1015\n"
     ]
    }
   ],
   "source": [
    "test_features = [] \n",
    "\n",
    "counter      = 0\n",
    "start        = 0\n",
    "stop         = len(test_data)\n",
    "\n",
    "for index in tqdm.tqdm(range(start,stop)):\n",
    "    time.sleep(0.01)\n",
    "\n",
    "    # Load Dataset\n",
    "    image    = plt.imread(test_data[index]['image'])\n",
    "    scan_id  = test_data[index]['id']\n",
    "    \n",
    "    # External Preprocessing (Discontinued)\n",
    "    # hr,_     = occlusion_removal(image)       # Occlusion Removal\n",
    "    # cl       = clahe_LAB(hr)                  # CLAHE Preprocessing\n",
    "    \n",
    "    # Segmentation (Discontinued)\n",
    "    # mask     = segment_lesion(cl, mode=\"active_contours\")   \n",
    "    # mask     = (plt.imread(train_data[index]['mask'])).astype(bool)\n",
    "    \n",
    "    # Feature Extraction\n",
    "    features = extract_features(image)\n",
    "    features = np.expand_dims(np.asarray(features),axis=0)\n",
    "    \n",
    "    # Pass to Feature Vectors\n",
    "    if (len(test_features)==0):\n",
    "        test_features = features\n",
    "        test_ids      = scan_id.replace(\"../data/test\\\\\", \"\")\n",
    "    else:\n",
    "        test_features = np.concatenate((test_features,features),axis=0)\n",
    "        test_ids      = np.append(test_ids,scan_id)\n",
    "    \n",
    "    counter = counter + 1\n",
    "\n",
    "print(\"Features Extraction (Testing Set) Complete: \"+str(counter))"
   ]
  },
  {
   "cell_type": "markdown",
   "metadata": {},
   "source": [
    "# ● Merge, Shuffle, Concatenate, Normalize"
   ]
  },
  {
   "cell_type": "code",
   "execution_count": 4,
   "metadata": {},
   "outputs": [],
   "source": [
    "# Combine Train/Val Feature Vectors\n",
    "full_features_les = np.zeros(shape=(train_features_les.shape[0]+val_features_les.shape[0],train_features_les.shape[1]))\n",
    "full_features_nv  = np.zeros(shape=(train_features_nv.shape[0]+val_features_nv.shape[0],train_features_nv.shape[1]))\n",
    "\n",
    "full_features_les[:train_features_les.shape[0],:] = train_features_les\n",
    "full_features_les[train_features_les.shape[0]:,:] = val_features_les\n",
    "full_features_nv[:train_features_nv.shape[0],:]   = train_features_nv\n",
    "full_features_nv[train_features_nv.shape[0]:,:]   = val_features_nv\n",
    "\n",
    "# Intra-Class Shuffle\n",
    "rnd                = np.random.RandomState(8)\n",
    "shuffled_indices   = rnd.permutation(np.arange(full_features_nv.shape[0]))\n",
    "full_features_les  = full_features_les[shuffled_indices]\n",
    "full_features_nv   = full_features_nv[shuffled_indices]"
   ]
  },
  {
   "cell_type": "code",
   "execution_count": 74,
   "metadata": {},
   "outputs": [],
   "source": [
    "# Inter-Class Shuffle (Not Mandatory), Concatenation, Normalization\n",
    "# \"Unlike the backpropagation learning algorithm for artificial neural networks, a given SVM will always deterministically\n",
    "#  converge to the same solution for a given data set, regardless of the initial conditions. [Campbell and Cristianini, 1999]\"\n",
    "\n",
    "X, Y               = concat_and_shuffled(class0=full_features_nv, class1=full_features_les, shuffled=False)\n",
    "\n",
    "# Scaling Test Features Blindly by Those Determined During Training/Validation \n",
    "Z                  = (test_features-np.mean(X,axis=0))/np.std(X,axis=0)\n",
    "X                  = (X-np.mean(X,axis=0))/np.std(X,axis=0)"
   ]
  },
  {
   "cell_type": "markdown",
   "metadata": {},
   "source": [
    "# ● Classifier: Training"
   ]
  },
  {
   "cell_type": "code",
   "execution_count": 75,
   "metadata": {},
   "outputs": [
    {
     "data": {
      "text/plain": [
       "SVC(C=10, cache_size=200, class_weight='balanced', coef0=0.0,\n",
       "    decision_function_shape='ovr', degree=3, gamma='scale', kernel='rbf',\n",
       "    max_iter=-1, probability=True, random_state=8, shrinking=True, tol=0.001,\n",
       "    verbose=False)"
      ]
     },
     "execution_count": 75,
     "metadata": {},
     "output_type": "execute_result"
    }
   ],
   "source": [
    "SVMclassifier = svm.SVC(C=10, kernel='rbf', gamma='scale', probability=True, class_weight='balanced', random_state=8)\n",
    "SVMclassifier.fit(X,Y)"
   ]
  },
  {
   "cell_type": "code",
   "execution_count": 76,
   "metadata": {},
   "outputs": [
    {
     "data": {
      "image/png": "[encoded data removed]",
      "text/plain": [
       "<Figure size 432x360 with 1 Axes>"
      ]
     },
     "metadata": {
      "needs_background": "light"
     },
     "output_type": "display_data"
    }
   ],
   "source": [
    "# Redundancy Check (Training=Validation=High)\n",
    "ROC(X,Y,X,Y,SVMclassifier)"
   ]
  },
  {
   "cell_type": "markdown",
   "metadata": {},
   "source": [
    "# ● Classifier: Inference"
   ]
  },
  {
   "cell_type": "code",
   "execution_count": 77,
   "metadata": {},
   "outputs": [
    {
     "name": "stdout",
     "output_type": "stream",
     "text": [
      "Expecting 0: 0.03166666666666667\n",
      "Expecting 1: 0.9733333333333334\n"
     ]
    }
   ],
   "source": [
    "# Redundancy Check (Verify Order of Predictions)\n",
    "expecting_label_0 = SVMclassifier.predict(X[:3000,:])\n",
    "expecting_label_1 = SVMclassifier.predict(X[3000:,:])\n",
    "\n",
    "# First 3000 samples are Class 0: NV; Second 3000 samples are Class 1: LES\n",
    "# Inference Accuracy should be High, since we're predicting on the Training Set\n",
    "print(\"Expecting 0: \" + str(expecting_label_0.mean()))\n",
    "print(\"Expecting 1: \" + str(expecting_label_1.mean()))"
   ]
  },
  {
   "cell_type": "code",
   "execution_count": 100,
   "metadata": {},
   "outputs": [
    {
     "data": {
      "text/plain": [
       "0.35763546798029555"
      ]
     },
     "execution_count": 100,
     "metadata": {},
     "output_type": "execute_result"
    }
   ],
   "source": [
    "inference_labels = SVMclassifier.predict(Z)\n",
    "inference_probs  = SVMclassifier.predict_proba(Z)\n",
    "inference_probs  = np.maximum(inference_probs[:,0],inference_probs[:,1])\n",
    "inference_ids    = test_ids\n",
    "\n",
    "# Predicting More NV or LES?\n",
    "inference_labels.mean()"
   ]
  },
  {
   "cell_type": "code",
   "execution_count": 6,
   "metadata": {},
   "outputs": [
    {
     "data": {
      "text/plain": [
       "{'id': 'ISIC_0052060',\n",
       " 'image': 'C:\\\\Users\\\\30694\\\\Downloads\\\\Melanoma_DeepLearning\\\\siim-isic-melanoma-classification\\\\jpeg\\\\test\\\\ISIC_0052060.jpg'}"
      ]
     },
     "execution_count": 6,
     "metadata": {},
     "output_type": "execute_result"
    }
   ],
   "source": [
    "test_data[0]\n"
   ]
  },
  {
   "cell_type": "code",
   "execution_count": 8,
   "metadata": {},
   "outputs": [],
   "source": [
    "# load the model\n",
    "import pickle\n",
    "model = pickle.load(open(r\"C:\\Users\\30694\\Melanoma-Classification\\models\\model.pkl\", \"rb\"))"
   ]
  },
  {
   "cell_type": "code",
   "execution_count": 117,
   "metadata": {},
   "outputs": [],
   "source": [
    "\n",
    "demo = plt.imread(r\"C:\\Users\\30694\\Downloads\\Melanoma_DeepLearning\\siim-isic-melanoma-classification\\jpeg\\val_images\\malignant\\ISIC_7897925.jpg\")"
   ]
  },
  {
   "cell_type": "code",
   "execution_count": 122,
   "metadata": {},
   "outputs": [],
   "source": [
    "def extract_features(image,mask=None):  \n",
    " \n",
    "    # Color Spaces: I/O ------------------------------------------------------------------------------------------------------------------------------------------------------\n",
    "    img_RGB               = image\n",
    "    img_GL                = cv2.cvtColor(img_RGB, cv2.COLOR_RGB2GRAY)\n",
    "    \n",
    "    img_HSV               = cv2.cvtColor(img_RGB, cv2.COLOR_RGB2HSV)\n",
    "    img_LAB               = cv2.cvtColor(img_RGB, cv2.COLOR_RGB2Lab)\n",
    "    img_YCrCb             = cv2.cvtColor(img_RGB, cv2.COLOR_RGB2YCrCb)\n",
    "    img_luv               = cv2.cvtColor(img_RGB, cv2.COLOR_RGB2Luv)\n",
    "    circa_mask            = create_circular_mask(image.shape[0], image.shape[1], radius = 300).astype(bool)\n",
    "    \n",
    "    masked_lesion_GL      = np.ma.array(np.multiply(img_GL,    circa_mask)  ,mask=~circa_mask)\n",
    "    masked_lesion_RGB     = np.ma.array(np.multiply(img_RGB,   np.dstack((circa_mask,circa_mask,circa_mask)))  ,mask=~np.dstack((circa_mask,circa_mask,circa_mask)))\n",
    "    masked_lesion_HSV     = np.ma.array(np.multiply(img_HSV,   np.dstack((circa_mask,circa_mask,circa_mask)))  ,mask=~np.dstack((circa_mask,circa_mask,circa_mask)))\n",
    "    masked_lesion_LAB     = np.ma.array(np.multiply(img_LAB,   np.dstack((circa_mask,circa_mask,circa_mask)))  ,mask=~np.dstack((circa_mask,circa_mask,circa_mask)))\n",
    "    masked_lesion_YCrCb   = np.ma.array(np.multiply(img_YCrCb, np.dstack((circa_mask,circa_mask,circa_mask)))  ,mask=~np.dstack((circa_mask,circa_mask,circa_mask)))\n",
    "    masked_lesion_luv     = np.ma.array(np.multiply(img_luv,   np.dstack((circa_mask,circa_mask,circa_mask)))  ,mask=~np.dstack((circa_mask,circa_mask,circa_mask)))\n",
    "    \n",
    "    \n",
    "    #-------------------------------------------------------------------------------------------------------------------------------------------------------------------------\n",
    "    \n",
    "    \n",
    "    # Color Constancy Spaces: I/O ---------------------------------------------------------------------------------------------------------------------------------------------\n",
    "\n",
    "    img_ccRGB,_           = color_constant(image)\n",
    "    img_ccGL              = cv2.cvtColor(img_RGB, cv2.COLOR_RGB2GRAY)\n",
    "    img_ccHSV             = cv2.cvtColor(img_RGB, cv2.COLOR_RGB2HSV)\n",
    "    img_ccLAB             = cv2.cvtColor(img_RGB, cv2.COLOR_RGB2Lab)\n",
    "    img_ccYCrCb           = cv2.cvtColor(img_RGB, cv2.COLOR_RGB2YCrCb)\n",
    "    img_ccluv             = cv2.cvtColor(img_RGB, cv2.COLOR_RGB2Luv)\n",
    "    \n",
    "    masked_lesion_ccGL    = np.ma.array(np.multiply(img_ccGL,    circa_mask)  ,mask=~circa_mask)\n",
    "    masked_lesion_ccRGB   = np.ma.array(np.multiply(img_ccRGB,   np.dstack((circa_mask,circa_mask,circa_mask)))  ,mask=~np.dstack((circa_mask,circa_mask,circa_mask)))\n",
    "    masked_lesion_ccHSV   = np.ma.array(np.multiply(img_ccHSV,   np.dstack((circa_mask,circa_mask,circa_mask)))  ,mask=~np.dstack((circa_mask,circa_mask,circa_mask)))\n",
    "    masked_lesion_ccLAB   = np.ma.array(np.multiply(img_ccLAB,   np.dstack((circa_mask,circa_mask,circa_mask)))  ,mask=~np.dstack((circa_mask,circa_mask,circa_mask)))\n",
    "    masked_lesion_ccYCrCb = np.ma.array(np.multiply(img_ccYCrCb, np.dstack((circa_mask,circa_mask,circa_mask)))  ,mask=~np.dstack((circa_mask,circa_mask,circa_mask)))\n",
    "    masked_lesion_ccluv   = np.ma.array(np.multiply(img_ccluv,   np.dstack((circa_mask,circa_mask,circa_mask)))  ,mask=~np.dstack((circa_mask,circa_mask,circa_mask)))\n",
    "    \n",
    "    \n",
    "    img_mxRGB             = (correct_image(image, grey_edge(image, njet=0, mink_norm=-1, sigma=0))*255).astype(np.uint8)\n",
    "    img_mxGL              = cv2.cvtColor(img_RGB, cv2.COLOR_RGB2GRAY)\n",
    "    img_mxHSV             = cv2.cvtColor(img_RGB, cv2.COLOR_RGB2HSV)\n",
    "    img_mxLAB             = cv2.cvtColor(img_RGB, cv2.COLOR_RGB2Lab)\n",
    "    img_mxYCrCb           = cv2.cvtColor(img_RGB, cv2.COLOR_RGB2YCrCb)\n",
    "    img_mxluv             = cv2.cvtColor(img_RGB, cv2.COLOR_RGB2Luv)\n",
    "    \n",
    "    masked_lesion_mxGL    = np.ma.array(np.multiply(img_mxGL,    circa_mask)  ,mask=~circa_mask)\n",
    "    masked_lesion_mxRGB   = np.ma.array(np.multiply(img_mxRGB,   np.dstack((circa_mask,circa_mask,circa_mask)))  ,mask=~np.dstack((circa_mask,circa_mask,circa_mask)))\n",
    "    masked_lesion_mxHSV   = np.ma.array(np.multiply(img_mxHSV,   np.dstack((circa_mask,circa_mask,circa_mask)))  ,mask=~np.dstack((circa_mask,circa_mask,circa_mask)))\n",
    "    masked_lesion_mxLAB   = np.ma.array(np.multiply(img_mxLAB,   np.dstack((circa_mask,circa_mask,circa_mask)))  ,mask=~np.dstack((circa_mask,circa_mask,circa_mask)))\n",
    "    masked_lesion_mxYCrCb = np.ma.array(np.multiply(img_mxYCrCb, np.dstack((circa_mask,circa_mask,circa_mask)))  ,mask=~np.dstack((circa_mask,circa_mask,circa_mask)))\n",
    "    masked_lesion_mxluv   = np.ma.array(np.multiply(img_mxluv,   np.dstack((circa_mask,circa_mask,circa_mask)))  ,mask=~np.dstack((circa_mask,circa_mask,circa_mask)))\n",
    "    #-------------------------------------------------------------------------------------------------------------------------------------------------------------------------\n",
    "    \n",
    "    \n",
    "    \n",
    "    # Color Moments ----------------------------------------------------------------------------------------------------------------------------------------------------------------\n",
    "    mean_R, std_R, skew_R, kurt_R, mean_G,  std_G,  skew_G,  kurt_G,  mean_B,  std_B,  skew_B,  kurt_B   = color_moments(masked_lesion_RGB,     channel=3)\n",
    "    mean_H, std_H, skew_H, kurt_H, mean_S,  std_S,  skew_S,  kurt_S,  mean_V,  std_V,  skew_V,  kurt_V   = color_moments(masked_lesion_HSV,     channel=3)\n",
    "    mean_L, std_L, skew_L, kurt_L, mean_A,  std_A,  skew_A,  kurt_A,  mean_b,  std_b,  skew_b,  kurt_b   = color_moments(masked_lesion_LAB,     channel=3)\n",
    "    mean_Y, std_Y, skew_Y, kurt_Y, mean_Cr, std_Cr, skew_Cr, kurt_Cr, mean_Cb, std_Cb, skew_Cb, kurt_Cb  = color_moments(masked_lesion_YCrCb,   channel=3)\n",
    "    mean_l, std_l, skew_l, kurt_l, mean_u,  std_u,  skew_u,  kurt_u,  mean_v,  std_v,  skew_v,  kurt_v   = color_moments(masked_lesion_luv,     channel=3)\n",
    "    \n",
    "    mean_ccR, std_ccR, skew_ccR, kurt_ccR, mean_ccG,  std_ccG,  skew_ccG,  kurt_ccG,  mean_ccB,  std_ccB,  skew_ccB,  kurt_ccB   = color_moments(masked_lesion_ccRGB,   channel=3)\n",
    "    mean_ccH, std_ccH, skew_ccH, kurt_ccH, mean_ccS,  std_ccS,  skew_ccS,  kurt_ccS,  mean_ccV,  std_ccV,  skew_ccV,  kurt_ccV   = color_moments(masked_lesion_ccHSV,   channel=3)\n",
    "    mean_ccL, std_ccL, skew_ccL, kurt_ccL, mean_ccA,  std_ccA,  skew_ccA,  kurt_ccA,  mean_ccb,  std_ccb,  skew_ccb,  kurt_ccb   = color_moments(masked_lesion_ccLAB,   channel=3)\n",
    "    mean_ccY, std_ccY, skew_ccY, kurt_ccY, mean_ccCr, std_ccCr, skew_ccCr, kurt_ccCr, mean_ccCb, std_ccCb, skew_ccCb, kurt_ccCb  = color_moments(masked_lesion_ccYCrCb, channel=3)\n",
    "    mean_ccl, std_ccl, skew_ccl, kurt_ccl, mean_ccu,  std_ccu,  skew_ccu,  kurt_ccu,  mean_ccv,  std_ccv,  skew_ccv,  kurt_ccv   = color_moments(masked_lesion_ccluv,   channel=3)\n",
    "\n",
    "    mean_mxR, std_mxR, skew_mxR, kurt_mxR, mean_mxG,  std_mxG,  skew_mxG,  kurt_mxG,  mean_mxB,  std_mxB,  skew_mxB,  kurt_mxB   = color_moments(masked_lesion_mxRGB,   channel=3)\n",
    "    mean_mxH, std_mxH, skew_mxH, kurt_mxH, mean_mxS,  std_mxS,  skew_mxS,  kurt_mxS,  mean_mxV,  std_mxV,  skew_mxV,  kurt_mxV   = color_moments(masked_lesion_mxHSV,   channel=3)\n",
    "    mean_mxL, std_mxL, skew_mxL, kurt_mxL, mean_mxA,  std_mxA,  skew_mxA,  kurt_mxA,  mean_mxb,  std_mxb,  skew_mxb,  kurt_mxb   = color_moments(masked_lesion_mxLAB,   channel=3)\n",
    "    mean_mxY, std_mxY, skew_mxY, kurt_mxY, mean_mxCr, std_mxCr, skew_mxCr, kurt_mxCr, mean_mxCb, std_mxCb, skew_mxCb, kurt_mxCb  = color_moments(masked_lesion_mxYCrCb, channel=3)\n",
    "    #-------------------------------------------------------------------------------------------------------------------------------------------------------------------------------\n",
    "    \n",
    "\n",
    "    # Graylevel Co-Occurrence Matrix -------------------------------------------------------------------------------------------------------------------------\n",
    "    #GLCM_GL    = GLCM(masked_lesion_GL,      channel=1)\n",
    "    GLCM_RGB   = GLCM(masked_lesion_RGB,     channel=3)\n",
    "    GLCM_HSV   = GLCM(masked_lesion_HSV,     channel=3)\n",
    "    GLCM_LAB   = GLCM(masked_lesion_LAB,     channel=3)\n",
    "    GLCM_YCrCb = GLCM(masked_lesion_YCrCb,   channel=3)\n",
    "    GLCM_luv   = GLCM(masked_lesion_luv,     channel=3)\n",
    "\n",
    "    GLCM_CGLF = np.concatenate((GLCM_RGB, GLCM_HSV, GLCM_LAB, GLCM_YCrCb, GLCM_luv),axis=0)\n",
    "    #----------------------------------------------------------------------------------------------------------------------------------------------------------\n",
    "\n",
    "    \n",
    "    # Color Markers ----------------------------------------------------------------------------------------------------------------\n",
    "    CM_black, CM_red, CM_bluegray, CM_white, CM_lightbrown, CM_darkbrown = melanoma_color_markers(masked_lesion_RGB, circa_mask)  \n",
    "    #-------------------------------------------------------------------------------------------------------------------------------\n",
    "    \n",
    "    \n",
    "    # Local Binary Patterns --------------------------------------------------------------------------------------\n",
    "    lbp_R, lbp_G, lbp_B    = LBP(masked_lesion_RGB,   channel=3)\n",
    "    lbp_H, lbp_S, lbp_V    = LBP(masked_lesion_HSV,   channel=3)\n",
    "    lbp_Y, lbp_Cr, lbp_Cb  = LBP(masked_lesion_YCrCb, channel=3)\n",
    "\n",
    "    LBP_CGLF  = np.concatenate((lbp_R,lbp_G,lbp_B,lbp_H,lbp_S,lbp_V,lbp_Y,lbp_Cr,lbp_Cb),axis=0)\n",
    "    #--------------------------------------------------------------------------------------------------------------\n",
    "    \n",
    "    # Smoothness, Uniformity, Entropy -----------------------------------------------------------------------------\n",
    "    entropyplus_RGB  = entropyplus_3(masked_lesion_RGB)\n",
    "    entropyplus_HSV  = entropyplus_3(masked_lesion_HSV)\n",
    "    \n",
    "    #--------------------------------------------------------------------------------------------------------------    \n",
    "    \n",
    "    extra_features = [\n",
    "        mean_R, std_R, skew_R, kurt_R, mean_G,  std_G,  skew_G,  kurt_G,  mean_B,  std_B,  skew_B,  kurt_B,    \n",
    "        mean_H, std_H, skew_H, kurt_H, mean_S,  std_S,  skew_S,  kurt_S,  mean_V,  std_V,  skew_V,  kurt_V,  \n",
    "        mean_L, std_L, skew_L, kurt_L, mean_A,  std_A,  skew_A,  kurt_A,  mean_b,  std_b,  skew_b,  kurt_b,  \n",
    "        mean_Y, std_Y, skew_Y, kurt_Y, mean_Cr, std_Cr, skew_Cr, kurt_Cr, mean_Cb, std_Cb, skew_Cb, kurt_Cb,\n",
    "        mean_l, std_l, skew_l, kurt_l, mean_u,  std_u,  skew_u,  kurt_u,  mean_v,  std_v,  skew_v,  kurt_v,\n",
    "\n",
    "        mean_ccR, std_ccR, skew_ccR, kurt_ccR, mean_ccG,  std_ccG,  skew_ccG,  kurt_ccG,  mean_ccB,  std_ccB,  skew_ccB,  kurt_ccB,\n",
    "        mean_ccH, std_ccH, skew_ccH, kurt_ccH, mean_ccS,  std_ccS,  skew_ccS,  kurt_ccS,  mean_ccV,  std_ccV,  skew_ccV,  kurt_ccV,\n",
    "        mean_ccL, std_ccL, skew_ccL, kurt_ccL, mean_ccA,  std_ccA,  skew_ccA,  kurt_ccA,  mean_ccb,  std_ccb,  skew_ccb,  kurt_ccb,\n",
    "        mean_ccY, std_ccY, skew_ccY, kurt_ccY, mean_ccCr, std_ccCr, skew_ccCr, kurt_ccCr, mean_ccCb, std_ccCb, skew_ccCb, kurt_ccCb, \n",
    "        mean_ccl, std_ccl, skew_ccl, kurt_ccl, mean_ccu,  std_ccu,  skew_ccu,  kurt_ccu,  mean_ccv,  std_ccv,  skew_ccv,  kurt_ccv,\n",
    "\n",
    "        mean_mxR, std_mxR, skew_mxR, kurt_mxR, mean_mxG,  std_mxG,  skew_mxG,  kurt_mxG,  mean_mxB,  std_mxB,  skew_mxB,  kurt_mxB,\n",
    "        mean_mxH, std_mxH, skew_mxH, kurt_mxH, mean_mxS,  std_mxS,  skew_mxS,  kurt_mxS,  mean_mxV,  std_mxV,  skew_mxV,  kurt_mxV,\n",
    "        mean_mxL, std_mxL, skew_mxL, kurt_mxL, mean_mxA,  std_mxA,  skew_mxA,  kurt_mxA,  mean_mxb,  std_mxb,  skew_mxb,  kurt_mxb,\n",
    "        mean_mxY, std_mxY, skew_mxY, kurt_mxY, mean_mxCr, std_mxCr, skew_mxCr, kurt_mxCr, mean_mxCb, std_mxCb, skew_mxCb, kurt_mxCb,\n",
    "    \n",
    "         \n",
    "        \n",
    "        CM_black, CM_red, CM_bluegray, CM_white, CM_lightbrown, CM_darkbrown] \n",
    "    \n",
    "    features = np.concatenate((extra_features,entropyplus_RGB,entropyplus_HSV),axis=0)\n",
    "    return features\n",
    "    #return extra_features\n",
    "    '''           \n",
    "    #CM = np.concatenate(( CM_black, CM_white, CM_lightbrown, CM_darkbrown,CM_red, CM_bluegray), axis = 0)\n",
    "               \n",
    "                \n",
    "    \n",
    "    #features = np.concatenate((GLCM_GL, GLCM_RGB, GLCM_HSV, GLCM_LAB),axis=0)\n",
    "    \n",
    "    \n",
    "    #plt.hist(np.histogram(lbp_R))  # arguments are passed to np.histogram\n",
    "    #plt.title(\"s\")\n",
    "    #plt.show()\n",
    "    features = np.concatenate((GLCM_CGLF, LBP_CGLF),axis=0)\n",
    "    return features\n",
    "    '''"
   ]
  },
  {
   "cell_type": "code",
   "execution_count": 118,
   "metadata": {},
   "outputs": [],
   "source": [
    "demo = cv2.resize(demo, (255,255))"
   ]
  },
  {
   "cell_type": "code",
   "execution_count": 119,
   "metadata": {},
   "outputs": [],
   "source": [
    "from keras.preprocessing import image as imag\n",
    "from keras.applications.vgg16 import VGG16\n",
    "from keras.applications.vgg16 import preprocess_input\n",
    "import cv2\n",
    "SIZE=255\n",
    "VGG_model = VGG16(weights='imagenet', include_top=False, input_shape=(SIZE, SIZE, 3))\n",
    "\n",
    "#Make loaded layers as non-trainable. This is important as we want to work with pre-trained weights\n",
    "for layer in VGG_model.layers:\n",
    "\tlayer.trainable = False\n",
    "    \n",
    "#VGG_model.summary()\n",
    "img_data = imag.img_to_array(demo)\n",
    "img_data = np.expand_dims(img_data, axis=0)\n",
    "img_data = preprocess_input(img_data)\n",
    "feature_extractor = VGG_model.predict(img_data)\n",
    "features = feature_extractor.reshape(feature_extractor.shape[0], -1)\n",
    "\n"
   ]
  },
  {
   "cell_type": "code",
   "execution_count": 120,
   "metadata": {},
   "outputs": [
    {
     "data": {
      "text/plain": [
       "(1, 25088)"
      ]
     },
     "execution_count": 120,
     "metadata": {},
     "output_type": "execute_result"
    }
   ],
   "source": [
    "features.shape"
   ]
  },
  {
   "cell_type": "code",
   "execution_count": 121,
   "metadata": {},
   "outputs": [
    {
     "name": "stdout",
     "output_type": "stream",
     "text": [
      "Feature Vector Shape: (255, 255, 3)\n"
     ]
    },
    {
     "data": {
      "text/plain": [
       "array([3.06746407e+01, 4.10962085e+00, 9.85156289e-01, 2.27942309e-01,\n",
       "       3.05299233e+01, 4.05967039e+00, 9.88419739e-01, 2.34652943e-01,\n",
       "       3.13716662e+01, 4.10454424e+00, 9.86076806e-01, 2.36999839e-01,\n",
       "       4.32271338e-01, 3.49606968e-01, 9.72717573e-01, 8.33300139e-01,\n",
       "       6.51316855e+01, 5.32619131e+00, 9.88967835e-01, 2.28940976e-01,\n",
       "       3.06746407e+01, 4.10962085e+00, 9.85156289e-01, 2.27942309e-01,\n",
       "       3.07896310e+01, 4.07904034e+00, 9.88150126e-01, 2.35376164e-01,\n",
       "       9.85875460e-01, 6.05266120e-01, 9.89432223e-01, 7.33345924e-01,\n",
       "       9.70182514e-01, 5.99061716e-01, 9.71372926e-01, 7.36081603e-01,\n",
       "       2.98809363e+01, 4.01692140e+00, 9.87315777e-01, 2.35999755e-01,\n",
       "       6.54473400e-01, 4.51593859e-01, 9.91238532e-01, 7.93226315e-01,\n",
       "       4.47796184e-01, 3.51000801e-01, 9.71417822e-01, 8.33883405e-01,\n",
       "       3.08523543e+01, 4.08872350e+00, 9.88104733e-01, 2.32192594e-01,\n",
       "       1.08257468e+00, 6.03201243e-01, 9.88243268e-01, 7.43018391e-01,\n",
       "       8.29619207e-01, 5.41392119e-01, 9.77438299e-01, 7.57445004e-01,\n",
       "       1.01453287e-01, 1.02360631e-01, 5.17800846e-02, 5.24567474e-02,\n",
       "       6.36524414e-02, 6.27297193e-02, 5.59784698e-02, 1.03790850e-01,\n",
       "       1.17739331e-01, 2.88058439e-01, 9.66551326e-02, 1.03421761e-01,\n",
       "       5.48558247e-02, 5.65167243e-02, 6.18377547e-02, 6.23298731e-02,\n",
       "       5.70088428e-02, 1.06789696e-01, 1.15447905e-01, 2.85136486e-01,\n",
       "       9.48712034e-02, 1.01407151e-01, 5.60861207e-02, 5.99769319e-02,\n",
       "       6.41291811e-02, 6.44828912e-02, 5.61937716e-02, 9.55940023e-02,\n",
       "       1.28304498e-01, 2.78954248e-01, 1.45636294e-02, 3.65244137e-02,\n",
       "       1.95001922e-02, 5.24259900e-02, 4.97193387e-02, 1.29334871e-01,\n",
       "       7.55709343e-02, 1.33194925e-01, 3.33394848e-01, 1.55770857e-01,\n",
       "       7.35563245e-02, 8.88735102e-02, 6.08688966e-02, 7.99077278e-02,\n",
       "       9.96847366e-02, 9.76701269e-02, 7.47558631e-02, 9.46251442e-02,\n",
       "       9.63936947e-02, 2.33663975e-01, 1.01453287e-01, 1.02360631e-01,\n",
       "       5.17800846e-02, 5.24567474e-02, 6.36524414e-02, 6.27297193e-02,\n",
       "       5.59784698e-02, 1.03790850e-01, 1.17739331e-01, 2.88058439e-01,\n",
       "       9.89465590e-02, 1.03360246e-01, 5.39331027e-02, 5.44098424e-02,\n",
       "       5.99923106e-02, 6.22068435e-02, 5.65782391e-02, 1.07128028e-01,\n",
       "       1.16662822e-01, 2.86782007e-01, 5.27489427e-03, 2.11149558e-02,\n",
       "       1.81007305e-02, 8.63206459e-02, 1.41622453e-01, 2.52010765e-01,\n",
       "       1.02760477e-01, 1.01207228e-01, 2.12256824e-01, 5.93310265e-02,\n",
       "       6.15148020e-03, 2.05305652e-02, 1.41945406e-02, 7.39869281e-02,\n",
       "       1.00668973e-01, 2.30419070e-01, 1.03375625e-01, 1.15094195e-01,\n",
       "       2.75601692e-01, 5.99769319e-02])"
      ]
     },
     "execution_count": 121,
     "metadata": {},
     "output_type": "execute_result"
    }
   ],
   "source": [
    "# Feature Vector Length (Redundancy Check)\n",
    "demo2 = np.array(extract_features(demo,np.ones(shape=(demo.shape[0],demo.shape[1]))))\n",
    "print(\"Feature Vector Shape: \"+str(demo.shape))\n",
    "demo2"
   ]
  },
  {
   "cell_type": "code",
   "execution_count": 123,
   "metadata": {},
   "outputs": [
    {
     "name": "stdout",
     "output_type": "stream",
     "text": [
      "Feature Vector Shape: (192,)\n"
     ]
    },
    {
     "data": {
      "text/plain": [
       "array([ 1.30325521e+02,  3.20731226e+01, -1.56288235e+00,  1.47674570e+00,\n",
       "        8.74074740e+01,  3.62319448e+01, -1.17718811e+00, -2.55548935e-01,\n",
       "        6.72227759e+01,  3.34946580e+01, -1.08325436e+00, -4.91250744e-01,\n",
       "        9.86260669e+00,  2.82317135e+00,  4.02466023e-01, -2.74870880e-01,\n",
       "        1.35611596e+02,  5.42307823e+01,  1.19122128e+00, -2.59412329e-01,\n",
       "        1.30325521e+02,  3.20731226e+01, -1.56288235e+00,  1.47674570e+00,\n",
       "        1.05133103e+02,  3.59646824e+01, -1.34491032e+00,  3.42519928e-01,\n",
       "        1.43465436e+02,  6.83014393e+00,  5.92341191e-01, -6.46870119e-01,\n",
       "        1.47041015e+02,  4.10641908e+00,  6.50965310e-02,  2.30486939e+00,\n",
       "        9.79495425e+01,  3.42457225e+01, -1.26846312e+00,  6.76609277e-02,\n",
       "        1.51128043e+02,  6.11309523e+00,  4.90491223e-01, -2.24073063e-01,\n",
       "        1.10647259e+02,  2.79233359e+00,  8.98070761e-01,  3.76512854e+00,\n",
       "        1.04553449e+02,  3.59325556e+01, -1.34587063e+00,  3.45821192e-01,\n",
       "        1.17728966e+02,  6.78290056e+00,  4.72616443e-01,  4.12738353e-01,\n",
       "        1.54083230e+02,  4.27860132e+00, -1.67606007e+00,  2.60100260e+00,\n",
       "        1.14528320e+02,  2.83085933e+01, -1.56170383e+00,  1.47559913e+00,\n",
       "        1.14550911e+02,  4.76811100e+01, -1.17688445e+00, -2.56003194e-01,\n",
       "        1.14577793e+02,  5.73209365e+01, -1.08231848e+00, -4.93662167e-01,\n",
       "        9.86260669e+00,  2.82317135e+00,  4.02466023e-01, -2.74870880e-01,\n",
       "        1.35611596e+02,  5.42307823e+01,  1.19122128e+00, -2.59412329e-01,\n",
       "        1.30325521e+02,  3.20731226e+01, -1.56288235e+00,  1.47674570e+00,\n",
       "        1.05133103e+02,  3.59646824e+01, -1.34491032e+00,  3.42519928e-01,\n",
       "        1.43465436e+02,  6.83014393e+00,  5.92341191e-01, -6.46870119e-01,\n",
       "        1.47041015e+02,  4.10641908e+00,  6.50965310e-02,  2.30486939e+00,\n",
       "        9.79495425e+01,  3.42457225e+01, -1.26846312e+00,  6.76609277e-02,\n",
       "        1.51128043e+02,  6.11309523e+00,  4.90491223e-01, -2.24073063e-01,\n",
       "        1.10647259e+02,  2.79233359e+00,  8.98070761e-01,  3.76512854e+00,\n",
       "        1.04553449e+02,  3.59325556e+01, -1.34587063e+00,  3.45821192e-01,\n",
       "        1.17728966e+02,  6.78290056e+00,  4.72616443e-01,  4.12738353e-01,\n",
       "        1.54083230e+02,  4.27860132e+00, -1.67606007e+00,  2.60100260e+00,\n",
       "        1.11136132e+02,  2.74923349e+01, -1.56219668e+00,  1.47428635e+00,\n",
       "        9.01582468e+01,  3.76152794e+01, -1.17300917e+00, -2.61502340e-01,\n",
       "        7.94895040e+01,  3.98211281e+01, -1.08153042e+00, -4.95134232e-01,\n",
       "        9.86260669e+00,  2.82317135e+00,  4.02466023e-01, -2.74870880e-01,\n",
       "        1.35611596e+02,  5.42307823e+01,  1.19122128e+00, -2.59412329e-01,\n",
       "        1.30325521e+02,  3.20731226e+01, -1.56288235e+00,  1.47674570e+00,\n",
       "        1.05133103e+02,  3.59646824e+01, -1.34491032e+00,  3.42519928e-01,\n",
       "        1.43465436e+02,  6.83014393e+00,  5.92341191e-01, -6.46870119e-01,\n",
       "        1.47041015e+02,  4.10641908e+00,  6.50965310e-02,  2.30486939e+00,\n",
       "        9.79495425e+01,  3.42457225e+01, -1.26846312e+00,  6.76609277e-02,\n",
       "        1.51128043e+02,  6.11309523e+00,  4.90491223e-01, -2.24073063e-01,\n",
       "        1.10647259e+02,  2.79233359e+00,  8.98070761e-01,  3.76512854e+00,\n",
       "        3.47712418e+00,  0.00000000e+00,  0.00000000e+00,  0.00000000e+00,\n",
       "        1.49803922e+01,  4.39169550e+01,  1.54539181e-02,  2.00834327e-02,\n",
       "        1.05214147e-01,  1.96376709e-02,  2.35739396e-02,  1.17869666e-01,\n",
       "        1.68305970e-02,  2.33815537e-02,  1.19614584e-01,  1.21602284e-04,\n",
       "        1.00561789e-01,  3.22393516e-01,  4.29484164e-02,  1.97377106e-02,\n",
       "        1.03565433e-01,  1.54539181e-02,  2.00834327e-02,  1.05214147e-01])"
      ]
     },
     "execution_count": 123,
     "metadata": {},
     "output_type": "execute_result"
    }
   ],
   "source": [
    "demo1 = np.array(extract_features(demo,np.ones(shape=(demo.shape[0],demo.shape[1]))))\n",
    "print(\"Feature Vector Shape: \"+str(demo1.shape))\n",
    "demo1"
   ]
  },
  {
   "cell_type": "code",
   "execution_count": 124,
   "metadata": {},
   "outputs": [],
   "source": [
    "image1 = np.expand_dims(demo1, axis=0)"
   ]
  },
  {
   "cell_type": "code",
   "execution_count": 125,
   "metadata": {},
   "outputs": [],
   "source": [
    "image2 = np.expand_dims(demo2, axis=0)"
   ]
  },
  {
   "cell_type": "code",
   "execution_count": 126,
   "metadata": {},
   "outputs": [
    {
     "data": {
      "text/plain": [
       "(1, 192)"
      ]
     },
     "execution_count": 126,
     "metadata": {},
     "output_type": "execute_result"
    }
   ],
   "source": [
    "image1.shape"
   ]
  },
  {
   "cell_type": "code",
   "execution_count": 127,
   "metadata": {},
   "outputs": [],
   "source": [
    "ft = np.concatenate((image1,image2,features),axis=1)\n"
   ]
  },
  {
   "cell_type": "code",
   "execution_count": 128,
   "metadata": {},
   "outputs": [
    {
     "data": {
      "text/plain": [
       "(1, 25430)"
      ]
     },
     "execution_count": 128,
     "metadata": {},
     "output_type": "execute_result"
    }
   ],
   "source": [
    "ft.shape"
   ]
  },
  {
   "cell_type": "code",
   "execution_count": 129,
   "metadata": {},
   "outputs": [],
   "source": [
    "i=ft[0][:4608]"
   ]
  },
  {
   "cell_type": "code",
   "execution_count": 130,
   "metadata": {},
   "outputs": [],
   "source": [
    "i = np.asanyarray(i)"
   ]
  },
  {
   "cell_type": "code",
   "execution_count": 131,
   "metadata": {},
   "outputs": [],
   "source": [
    "i=i.reshape(1, -1)\n"
   ]
  },
  {
   "cell_type": "code",
   "execution_count": 137,
   "metadata": {},
   "outputs": [
    {
     "data": {
      "text/plain": [
       "array([0.])"
      ]
     },
     "execution_count": 137,
     "metadata": {},
     "output_type": "execute_result"
    }
   ],
   "source": [
    "\n",
    "model.predict(i)"
   ]
  },
  {
   "cell_type": "code",
   "execution_count": 136,
   "metadata": {},
   "outputs": [
    {
     "ename": "NameError",
     "evalue": "name 'inference_ids' is not defined",
     "output_type": "error",
     "traceback": [
      "\u001b[1;31m---------------------------------------------------------------------------\u001b[0m",
      "\u001b[1;31mNameError\u001b[0m                                 Traceback (most recent call last)",
      "\u001b[1;32m<ipython-input-136-c6afa5e9fa03>\u001b[0m in \u001b[0;36m<module>\u001b[1;34m\u001b[0m\n\u001b[1;32m----> 1\u001b[1;33m predictions    =  pd.DataFrame(list(zip(inference_ids,inference_labels,inference_probs)),\n\u001b[0m\u001b[0;32m      2\u001b[0m columns        =  ['img_id', 'lbl', 'prob'])\n\u001b[0;32m      3\u001b[0m \u001b[0mpredictions\u001b[0m\u001b[1;33m.\u001b[0m\u001b[0mto_csv\u001b[0m\u001b[1;33m(\u001b[0m\u001b[1;34m'predictions_testset.csv'\u001b[0m\u001b[1;33m,\u001b[0m \u001b[0mencoding\u001b[0m\u001b[1;33m=\u001b[0m\u001b[1;34m'utf-8'\u001b[0m\u001b[1;33m,\u001b[0m \u001b[0mindex\u001b[0m\u001b[1;33m=\u001b[0m\u001b[1;32mFalse\u001b[0m\u001b[1;33m)\u001b[0m\u001b[1;33m\u001b[0m\u001b[1;33m\u001b[0m\u001b[0m\n",
      "\u001b[1;31mNameError\u001b[0m: name 'inference_ids' is not defined"
     ]
    }
   ],
   "source": [
    "predictions    =  pd.DataFrame(list(zip(inference_ids,inference_labels,inference_probs)),\n",
    "columns        =  ['img_id', 'lbl', 'prob'])\n",
    "predictions.to_csv('predictions_testset.csv', encoding='utf-8', index=False)  "
   ]
  },
  {
   "cell_type": "code",
   "execution_count": null,
   "metadata": {},
   "outputs": [],
   "source": []
  }
 ],
 "metadata": {
  "kernelspec": {
   "display_name": "Python 3",
   "language": "python",
   "name": "python3"
  },
  "language_info": {
   "codemirror_mode": {
    "name": "ipython",
    "version": 3
   },
   "file_extension": ".py",
   "mimetype": "text/x-python",
   "name": "python",
   "nbconvert_exporter": "python",
   "pygments_lexer": "ipython3",
   "version": "3.8.5"
  }
 },
 "nbformat": 4,
 "nbformat_minor": 4
}
