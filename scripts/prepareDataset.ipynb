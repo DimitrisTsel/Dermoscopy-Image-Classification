{
 "cells": [
  {
   "cell_type": "code",
   "execution_count": 1,
   "metadata": {},
   "outputs": [],
   "source": [
    "import cv2\n",
    "import numpy as np\n",
    "import os\n",
    "import matplotlib.pyplot as plt\n",
    "import random\n",
    "import pylab as pl\n",
    "from sklearn.metrics import confusion_matrix,accuracy_score\n",
    "import pandas as pd"
   ]
  },
  {
   "cell_type": "code",
   "execution_count": 2,
   "metadata": {},
   "outputs": [],
   "source": [
    "train_path=\"C:/Users/30694/Downloads/Melanoma_DeepLearning/siim-isic-melanoma-classification/jpeg/resized_train_images\""
   ]
  },
  {
   "cell_type": "code",
   "execution_count": 11,
   "metadata": {},
   "outputs": [],
   "source": [
    "import glob\n",
    "\n",
    "for filename in glob.glob('C:/Users/30694/Downloads/Melanoma_DeepLearning/siim-isic-melanoma-classification/jpeg/train/*.jpg'):\n",
    "    img=cv2.imread(filename) \n",
    "    rl=cv2.resize(img, (255,255))\n",
    "    cv2.imwrite(f'C:/Users/30694/Downloads/Melanoma_DeepLearning/siim-isic-melanoma-classification/jpeg/resized_train_images/{filename[-16:-4]}.jpg', rl)"
   ]
  },
  {
   "cell_type": "code",
   "execution_count": 7,
   "metadata": {},
   "outputs": [
    {
     "data": {
      "text/plain": [
       "33126"
      ]
     },
     "execution_count": 7,
     "metadata": {},
     "output_type": "execute_result"
    }
   ],
   "source": [
    "len(i)"
   ]
  },
  {
   "cell_type": "code",
   "execution_count": 12,
   "metadata": {},
   "outputs": [],
   "source": [
    "class_path=pd.read_csv('C:/Users/30694/Downloads/Melanoma_DeepLearning/siim-isic-melanoma-classification/train.csv')"
   ]
  },
  {
   "cell_type": "code",
   "execution_count": 13,
   "metadata": {},
   "outputs": [
    {
     "data": {
      "text/plain": [
       "33126"
      ]
     },
     "execution_count": 13,
     "metadata": {},
     "output_type": "execute_result"
    }
   ],
   "source": [
    "len(class_path.target)"
   ]
  },
  {
   "cell_type": "code",
   "execution_count": 14,
   "metadata": {},
   "outputs": [],
   "source": [
    "import os\n",
    "\n",
    "image_paths=[]\n",
    "\n",
    "def getFiles(path):\n",
    "    for file in os.listdir(path):\n",
    "        if file.endswith(\".jpg\"):\n",
    "            image_paths.append(os.path.join(path, file))\n",
    "            \n",
    "\n",
    "filesPath = \"C:/Users/30694/Downloads/Melanoma_DeepLearning/siim-isic-melanoma-classification/jpeg/resized_train_images\"\n",
    "\n",
    "getFiles(filesPath)"
   ]
  },
  {
   "cell_type": "code",
   "execution_count": 15,
   "metadata": {},
   "outputs": [
    {
     "data": {
      "text/plain": [
       "'C:/Users/30694/Downloads/Melanoma_DeepLearning/siim-isic-melanoma-classification/jpeg/resized_train_images\\\\ISIC_0068279.jpg'"
      ]
     },
     "execution_count": 15,
     "metadata": {},
     "output_type": "execute_result"
    }
   ],
   "source": [
    "image_paths[2]\n"
   ]
  },
  {
   "cell_type": "code",
   "execution_count": 16,
   "metadata": {},
   "outputs": [
    {
     "data": {
      "text/plain": [
       "33126"
      ]
     },
     "execution_count": 16,
     "metadata": {},
     "output_type": "execute_result"
    }
   ],
   "source": [
    "len(image_paths)"
   ]
  },
  {
   "cell_type": "code",
   "execution_count": 7,
   "metadata": {},
   "outputs": [],
   "source": [
    "D=[]\n",
    "for i in range(len(image_paths)):\n",
    "    D.append((image_paths[i],class_path.target[i]))"
   ]
  },
  {
   "cell_type": "code",
   "execution_count": 96,
   "metadata": {},
   "outputs": [],
   "source": [
    "path_begnign='C:/Users/30694/Downloads/Melanoma_DeepLearning/siim-isic-melanoma-classification/jpeg/finalTrain/benign'\n",
    "path_malignant='C:/Users/30694/Downloads/Melanoma_DeepLearning/siim-isic-melanoma-classification/jpeg/finalTrain/malignant'\n",
    "\n",
    "  \n",
    "for img in range(len(D)):\n",
    "    if D[img][1]==0:\n",
    "        cv2.imread(D[img][0])\n",
    "        cv2.imwrite(f\"{path_begnign}/{D[img][0][-16:]}\",cv2.imread(D[img][0]))\n",
    "    elif D[img][1]==1:\n",
    "        im=cv2.imread(D[img][0])\n",
    "        cv2.imwrite(f\"{path_malignant}/{D[img][0][-16:]}\",cv2.imread(D[img][0]))"
   ]
  },
  {
   "cell_type": "code",
   "execution_count": null,
   "metadata": {},
   "outputs": [],
   "source": []
  }
 ],
 "metadata": {
  "interpreter": {
   "hash": "ea08a983e3a181400da60aaea1dfdeefa704f0d56f01fc19d6270ac6166edaf0"
  },
  "kernelspec": {
   "display_name": "Python 3.8.5 64-bit ('base': conda)",
   "name": "python3"
  },
  "language_info": {
   "codemirror_mode": {
    "name": "ipython",
    "version": 3
   },
   "file_extension": ".py",
   "mimetype": "text/x-python",
   "name": "python",
   "nbconvert_exporter": "python",
   "pygments_lexer": "ipython3",
   "version": "3.8.5"
  },
  "orig_nbformat": 4
 },
 "nbformat": 4,
 "nbformat_minor": 2
}
