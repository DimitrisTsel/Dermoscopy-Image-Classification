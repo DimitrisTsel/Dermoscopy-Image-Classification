{
 "cells": [
  {
   "cell_type": "code",
   "execution_count": 1,
   "metadata": {},
   "outputs": [],
   "source": [
    "import numpy as np\n",
    "from numpy import load\n",
    "from sklearn.metrics import (roc_curve, auc, accuracy_score, f1_score, precision_score,\n",
    "                             recall_score, classification_report, confusion_matrix)\n",
    "from skimage.feature import hog\n",
    "import seaborn as sn\n",
    "import pandas as pd\n",
    "from sklearn.model_selection import train_test_split, cross_val_score, cross_validate, StratifiedKFold\n",
    "from dataio import *\n",
    "from preprocess import *\n",
    "from segment import *\n",
    "from colorfeatures import *\n",
    "from classify import *\n",
    "from feature_extraction import *"
   ]
  },
  {
   "cell_type": "code",
   "execution_count": 8,
   "metadata": {},
   "outputs": [],
   "source": [
    "from numpy import load\n",
    "cnn_nv = load('/features/aug_train_cnn_features_nv.npy', allow_pickle=True)"
   ]
  },
  {
   "cell_type": "code",
   "execution_count": 6,
   "metadata": {},
   "outputs": [],
   "source": [
    "cnn_les = load('/features/aug_train_cnn_features_les.npy', allow_pickle=True)"
   ]
  },
  {
   "cell_type": "code",
   "execution_count": 9,
   "metadata": {},
   "outputs": [
    {
     "data": {
      "text/plain": [
       "(22880, 4608)"
      ]
     },
     "execution_count": 9,
     "metadata": {},
     "output_type": "execute_result"
    }
   ],
   "source": [
    "cnn_nv.shape"
   ]
  },
  {
   "cell_type": "code",
   "execution_count": null,
   "metadata": {},
   "outputs": [],
   "source": [
    "import numpy as np\n",
    "from numpy import load\n",
    "cnn_nv = load('/features/full_VGG16_features_nv.npy', allow_pickle=True)\n",
    "cnn_les = load('/features/full_VGG16_features_les.npy', allow_pickle=True)\n",
    "hc_nv = load('/features/full_train_hand_crafted_features_nv.npy', allow_pickle=True)\n",
    "hc_les = load('/features/full_train_hand_crafted_features_les.npy', allow_pickle=True)\n",
    "meta_nv = load('/features/full_metafeatures_hand_crafted_features_nv.npy', allow_pickle=True)\n",
    "meta_les = load('/features/full_metafeatures_hand_crafted_features_les.npy', allow_pickle=True)"
   ]
  },
  {
   "cell_type": "code",
   "execution_count": null,
   "metadata": {},
   "outputs": [],
   "source": [
    "nv = np.concatenate((cnn_nv,hc_nv,meta_nv),axis=1)\n",
    "les = np.concatenate((cnn_les, hc_les,meta_les),axis=1)"
   ]
  },
  {
   "cell_type": "code",
   "execution_count": null,
   "metadata": {},
   "outputs": [],
   "source": [
    "X, Y               = concat_and_shuffled(class0=nv, class1=les, shuffled=False)\n",
    "X                  = (X-np.mean(X,axis=0))/np.std(X,axis=0)"
   ]
  },
  {
   "cell_type": "code",
   "execution_count": null,
   "metadata": {},
   "outputs": [],
   "source": [
    "np.nan_to_num(X, copy=False, nan=0.0, posinf=None, neginf=None)\n",
    "np.isfinite(X).all()"
   ]
  },
  {
   "cell_type": "code",
   "execution_count": null,
   "metadata": {},
   "outputs": [],
   "source": [
    "from sklearn.model_selection import train_test_split\n",
    "X_train, X_test, y_train, y_test = train_test_split(\n",
    " X, Y, test_size=0.3, random_state=42)"
   ]
  },
  {
   "cell_type": "code",
   "execution_count": null,
   "metadata": {},
   "outputs": [],
   "source": [
    "class_weight = {0: 1, 1: 99}"
   ]
  },
  {
   "cell_type": "code",
   "execution_count": null,
   "metadata": {},
   "outputs": [],
   "source": [
    "RFclassifier = RandomForestClassifier(n_estimators=2000, max_depth=20, max_features='auto', class_weight=class_weight,\n",
    "                                      min_samples_split=10, min_samples_leaf=1, bootstrap=True, random_state=40)\n",
    "RFclassifier.fit(X_train, y_train)"
   ]
  },
  {
   "cell_type": "markdown",
   "metadata": {},
   "source": [
    "# ● Results (AUC, F1, Accuracy, Precision, Recall, Confusion Matrix)"
   ]
  },
  {
   "cell_type": "code",
   "execution_count": null,
   "metadata": {},
   "outputs": [],
   "source": [
    "ROC(X_train,Y_train,X_test,Y_test,SVMclassifier, RFclassifier)"
   ]
  },
  {
   "cell_type": "code",
   "execution_count": null,
   "metadata": {},
   "outputs": [],
   "source": [
    "RFaccuracy  = accuracy_score(y_test, RFclassifier.predict(X_test))\n",
    "RFprecision = precision_score(y_test, RFclassifier.predict(X_test),  average=\"macro\")\n",
    "RFrecall    = recall_score(y_test, RFclassifier.predict(X_test),  average=\"macro\")\n",
    "RFF1        = f1_score(y_test, RFclassifier.predict(X_test),  average=\"macro\")\n",
    "print(\"---------------------------------\")\n",
    "print(\"Random Forest\")\n",
    "print(\"Accuracy = %0.4f\"%RFaccuracy),  print(\"Precision = %0.4f\"%RFprecision)\n",
    "print(\"Recall = %0.4f\"%RFrecall),\n",
    "print(\"F1 Score = %0.4f\"%RFF1)"
   ]
  },
  {
   "cell_type": "code",
   "execution_count": null,
   "metadata": {},
   "outputs": [],
   "source": [
    "TN2, FP2, FN2, TP2 = confusion_matrix(y_test, RFclassifier.predict(X_test)).ravel()\n",
    "CM2 = confusion_matrix(y_test, RFclassifier.predict(X_test))\n",
    "CM2 = pd.DataFrame(CM2, index = [\"LES (Actual)\",\"NV (Actual)\"],\n",
    "                   columns = [\"LES (Predicted)\",\"NV (Predicted)\"])\n",
    "\n",
    "%matplotlib qt\n",
    "plt.figure(figsize=[12,4.5])\n",
    "plt.subplot(121)\n",
    "\n",
    "plt.subplot(122)\n",
    "sn.heatmap(CM2, annot=True, fmt='g')\n",
    "\n",
    "print(\"Random Forest\")\n",
    "print(\"TP:{TP} | TN:{TN} | FP:{FP} | FN:{FN}\".format(TP=TP2,TN=TN2,FP=FP2,FN=FN2))\n",
    "print(\"Sensitivity: {:.3f}\".format(TP2/(TP2+FN2)))\n",
    "print(\"Specificity: {:.3f}\".format(TN2/(TN2+FP2)))"
   ]
  }
 ],
 "metadata": {
  "interpreter": {
   "hash": "ea08a983e3a181400da60aaea1dfdeefa704f0d56f01fc19d6270ac6166edaf0"
  },
  "kernelspec": {
   "display_name": "Python 3.8.5 64-bit ('base': conda)",
   "language": "python",
   "name": "python3"
  },
  "language_info": {
   "codemirror_mode": {
    "name": "ipython",
    "version": 3
   },
   "file_extension": ".py",
   "mimetype": "text/x-python",
   "name": "python",
   "nbconvert_exporter": "python",
   "pygments_lexer": "ipython3",
   "version": "3.8.5"
  },
  "orig_nbformat": 4
 },
 "nbformat": 4,
 "nbformat_minor": 2
}
